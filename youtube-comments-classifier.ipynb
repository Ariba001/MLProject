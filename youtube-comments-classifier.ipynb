{
  "cells": [
    {
      "cell_type": "code",
      "execution_count": 1,
      "id": "ed13bf38-52fb-4926-9a5d-133f1b7c30b1",
      "metadata": {
        "colab": {
          "base_uri": "https://localhost:8080/"
        },
        "id": "ed13bf38-52fb-4926-9a5d-133f1b7c30b1",
        "outputId": "af5aef59-9dce-4955-edf3-f0b7bde73d7e"
      },
      "outputs": [
        {
          "output_type": "stream",
          "name": "stdout",
          "text": [
            "                                             comment       label\n",
            "0  last proof me  kaha gaya little confused about it       doubt\n",
            "1                       sir g ki value positive hogi       doubt\n",
            "2                             like the video guyssss  irrelevant\n",
            "3                        ummm sir i want see ur wife  irrelevant\n",
            "4  physics wallah punabi mundamundi mein thusde d...  irrelevant\n"
          ]
        }
      ],
      "source": [
        "import pandas as pd\n",
        "\n",
        "train_df = pd.read_csv('train.csv')\n",
        "\n",
        "print(train_df.head())\n",
        "\n",
        "comments = train_df['comment'].values\n",
        "labels = train_df['label'].values\n"
      ]
    },
    {
      "cell_type": "code",
      "execution_count": 2,
      "id": "7135de6d-1688-4b28-9984-40e0653c3f23",
      "metadata": {
        "id": "7135de6d-1688-4b28-9984-40e0653c3f23"
      },
      "outputs": [],
      "source": [
        "hinglish_stopwords = [\n",
        "    'aap', 'ab', 'hai', 'haina', 'hoga', 'hoti', 'hoon', 'hu', 'ka', 'kya',\n",
        "    'kar', 'kare', 'karo', 'to', 'tum', 'main', 'ke', 'se', 'par', 'mein',\n",
        "    'bhi', 'ya', 'aur', 'yaar', 'kahi', 'sab', 'log', 'ye', 'wo', 'waise',\n",
        "    'jab', 'waqt', 'agar', 'khud', 'nahi', 'karta', 'karti', 'karna',\n",
        "    'karega', 'se', 'kar', 'jo', 'thoda', 'zyada', 'kisi', 'toh',\n",
        "    'kaise', 'aise', 'na', 'toh', 'abhi', 'poora', 'waise', 'ek', 'sabse',\n",
        "    'jaisa', 'kya', 'hoga', 'hota', 'ho', 'lekin', 'phir', 'kyunki',\n",
        "    'chalo', 'suno', 'dekhna', 'dekh', 'bata', 'samajh', 'karega', 'kya',\n",
        "    'hai', 'thik', 'sab', 'hoti', 'hota', 'hote', 'bhi', 'sabhi',\n",
        "    'koi', 'sari', 'naya', 'pura', 'bada', 'chota', 'bahut', 'acha',\n",
        "    'sahi', 'suno', 'kuch', 'aate', 'jata', 'jaate', 'hona', 'ho'\n",
        "]\n",
        "\n",
        "import re\n",
        "\n",
        "def preprocess_text(text):\n",
        "    text = text.lower()\n",
        "    text = re.sub(r'[^\\w\\s]', '', text)\n",
        "    text = ' '.join([word for word in text.split() if word not in hinglish_stopwords])\n",
        "    return text\n",
        "\n",
        "\n",
        "cleaned_comments = [preprocess_text(comment) for comment in comments]\n"
      ]
    },
    {
      "cell_type": "code",
      "execution_count": 3,
      "id": "eb053ed8-54dd-4236-aacd-b22337f4ce1a",
      "metadata": {
        "id": "eb053ed8-54dd-4236-aacd-b22337f4ce1a"
      },
      "outputs": [],
      "source": [
        "import tensorflow as tf\n",
        "from tensorflow.keras.layers import TextVectorization\n",
        "vectorizer = TextVectorization(max_tokens=20000, output_sequence_length=500)\n",
        "vectorizer.adapt(cleaned_comments)\n",
        "vectorized_comments = vectorizer(cleaned_comments)\n"
      ]
    },
    {
      "cell_type": "code",
      "execution_count": 4,
      "id": "c02ae298-c256-4246-addf-f472ec96088b",
      "metadata": {
        "id": "c02ae298-c256-4246-addf-f472ec96088b"
      },
      "outputs": [],
      "source": [
        "from sklearn.preprocessing import LabelEncoder\n",
        "label_encoder = LabelEncoder()\n",
        "encoded_labels = label_encoder.fit_transform(labels)\n",
        "from tensorflow.keras.utils import to_categorical\n",
        "categorical_labels = to_categorical(encoded_labels)\n"
      ]
    },
    {
      "cell_type": "code",
      "execution_count": 5,
      "id": "cac04d99-e8a1-4593-bfd3-3f034b0abdd3",
      "metadata": {
        "colab": {
          "base_uri": "https://localhost:8080/"
        },
        "id": "cac04d99-e8a1-4593-bfd3-3f034b0abdd3",
        "outputId": "da4b6b0d-5175-47f8-90fc-e76f0eb67f2b"
      },
      "outputs": [
        {
          "output_type": "stream",
          "name": "stdout",
          "text": [
            "Training Data Shape: (170997, 500)\n",
            "Validation Data Shape: (42750, 500)\n"
          ]
        }
      ],
      "source": [
        "import numpy as np\n",
        "from sklearn.model_selection import train_test_split\n",
        "vectorized_comments_np = vectorized_comments.numpy()\n",
        "\n",
        "X_train, X_val, y_train, y_val = train_test_split(vectorized_comments_np, categorical_labels, test_size=0.2, random_state=42)\n",
        "\n",
        "print(f\"Training Data Shape: {X_train.shape}\")\n",
        "print(f\"Validation Data Shape: {X_val.shape}\")\n",
        "\n"
      ]
    },
    {
      "cell_type": "code",
      "execution_count": 8,
      "id": "5e2b1adb-5ce2-4534-ab46-8d7b65ad0af2",
      "metadata": {
        "colab": {
          "base_uri": "https://localhost:8080/"
        },
        "id": "5e2b1adb-5ce2-4534-ab46-8d7b65ad0af2",
        "outputId": "6d900030-ff41-487a-e9c2-3d526445e85c"
      },
      "outputs": [
        {
          "output_type": "stream",
          "name": "stdout",
          "text": [
            "Epoch 1/2\n",
            "\u001b[1m668/668\u001b[0m \u001b[32m━━━━━━━━━━━━━━━━━━━━\u001b[0m\u001b[37m\u001b[0m \u001b[1m41s\u001b[0m 54ms/step - accuracy: 0.5945 - loss: 0.8602 - val_accuracy: 0.6907 - val_loss: 0.7024\n",
            "Epoch 2/2\n",
            "\u001b[1m668/668\u001b[0m \u001b[32m━━━━━━━━━━━━━━━━━━━━\u001b[0m\u001b[37m\u001b[0m \u001b[1m36s\u001b[0m 53ms/step - accuracy: 0.6969 - loss: 0.7007 - val_accuracy: 0.6934 - val_loss: 0.6951\n",
            "\u001b[1m167/167\u001b[0m \u001b[32m━━━━━━━━━━━━━━━━━━━━\u001b[0m\u001b[37m\u001b[0m \u001b[1m4s\u001b[0m 19ms/step - accuracy: 0.6944 - loss: 0.6939\n",
            "Validation Loss: 0.6951, Validation Accuracy: 0.6934\n",
            "\u001b[1m167/167\u001b[0m \u001b[32m━━━━━━━━━━━━━━━━━━━━\u001b[0m\u001b[37m\u001b[0m \u001b[1m3s\u001b[0m 17ms/step\n",
            "F1 Score: 0.6887\n"
          ]
        }
      ],
      "source": [
        "from tensorflow.keras.models import Sequential\n",
        "from tensorflow.keras.layers import Embedding, LSTM, Dense, Dropout, Bidirectional\n",
        "from tensorflow.keras import mixed_precision\n",
        "from sklearn.metrics import f1_score\n",
        "\n",
        "policy = mixed_precision.Policy('mixed_float16')\n",
        "mixed_precision.set_global_policy(policy)\n",
        "U\n",
        "model = Sequential()\n",
        "model.add(Embedding(input_dim=20000 + 1, output_dim=64, input_length=500))\n",
        "model.add(Bidirectional(LSTM(32)))\n",
        "model.add(Dropout(0.5))\n",
        "model.add(Dense(3, activation='softmax'))\n",
        "\n",
        "model.compile(loss='categorical_crossentropy', optimizer='adam', metrics=['accuracy'])\n",
        "\n",
        "history = model.fit(X_train, y_train,\n",
        "                    validation_data=(X_val, y_val),\n",
        "                    epochs=2,\n",
        "                    batch_size=256)\n",
        "\n",
        "\n",
        "batch_size = 256\n",
        "\n",
        "val_dataset = tf.data.Dataset.from_tensor_slices((X_val, y_val))\n",
        "val_dataset = val_dataset.batch(batch_size).prefetch(tf.data.experimental.AUTOTUNE)\n",
        "\n",
        "val_loss, val_accuracy = model.evaluate(val_dataset)\n",
        "print(f\"Validation Loss: {val_loss:.4f}, Validation Accuracy: {val_accuracy:.4f}\")\n",
        "\n",
        "y_pred_probs = model.predict(val_dataset)\n",
        "y_pred = tf.argmax(y_pred_probs, axis=1)\n",
        "\n",
        "y_true = tf.argmax(y_val, axis=1)\n",
        "\n",
        "f1 = f1_score(y_true, y_pred, average='macro')\n",
        "print(f\"F1 Score: {f1:.4f}\")"
      ]
    },
    {
      "cell_type": "code",
      "execution_count": 14,
      "id": "375bae08-2586-409a-9b5d-ec48eb3f83b0",
      "metadata": {
        "colab": {
          "base_uri": "https://localhost:8080/"
        },
        "id": "375bae08-2586-409a-9b5d-ec48eb3f83b0",
        "outputId": "b0ace729-7803-49b2-fd87-c77ac77cb3dd"
      },
      "outputs": [
        {
          "output_type": "stream",
          "name": "stdout",
          "text": [
            "\u001b[1m2863/2863\u001b[0m \u001b[32m━━━━━━━━━━━━━━━━━━━━\u001b[0m\u001b[37m\u001b[0m \u001b[1m42s\u001b[0m 15ms/step\n",
            "Predictions saved to predictions.csv\n"
          ]
        }
      ],
      "source": [
        "\n",
        "test_df = pd.read_csv('test.csv')\n",
        "test_comments = test_df['comment'].values\n",
        "\n",
        "cleaned_test_comments = [preprocess_text(comment) for comment in test_comments]\n",
        "\n",
        "vectorized_test_comments = vectorizer(cleaned_test_comments)\n",
        "\n",
        "vectorized_test_comments_np = vectorized_test_comments.numpy()\n",
        "\n",
        "predictions_probs = model.predict(vectorized_test_comments_np)\n",
        "predictions = np.argmax(predictions_probs, axis=1)\n",
        "\n",
        "label = label_encoder.inverse_transform(predictions)\n",
        "\n",
        "results_df = pd.DataFrame({\n",
        "    'id': test_df['id'],\n",
        "    'label': label\n",
        "})\n",
        "\n",
        "results_df.to_csv('predictions.csv', index=False)\n",
        "\n",
        "print(\"Predictions saved to predictions.csv\")\n",
        "\n"
      ]
    },
    {
      "cell_type": "code",
      "execution_count": null,
      "id": "2e20f134-b856-499e-a314-c54b77f08f3f",
      "metadata": {
        "id": "2e20f134-b856-499e-a314-c54b77f08f3f"
      },
      "outputs": [],
      "source": [
        "\n"
      ]
    }
  ],
  "metadata": {
    "kernelspec": {
      "display_name": "tfkernel",
      "language": "python",
      "name": "tfkernel"
    },
    "language_info": {
      "codemirror_mode": {
        "name": "ipython",
        "version": 3
      },
      "file_extension": ".py",
      "mimetype": "text/x-python",
      "name": "python",
      "nbconvert_exporter": "python",
      "pygments_lexer": "ipython3",
      "version": "3.12.3"
    },
    "colab": {
      "provenance": [],
      "gpuType": "T4"
    },
    "accelerator": "GPU"
  },
  "nbformat": 4,
  "nbformat_minor": 5
}